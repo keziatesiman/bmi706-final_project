{
 "cells": [
  {
   "cell_type": "code",
   "execution_count": 1,
   "id": "2fe79f65",
   "metadata": {},
   "outputs": [],
   "source": [
    "import os\n",
    "import zipfile\n",
    "import pandas as pd\n",
    "import numpy as np\n",
    "import altair as alt\n",
    "import streamlit as st\n",
    "from vega_datasets import data\n",
    "import icd10"
   ]
  },
  {
   "cell_type": "code",
   "execution_count": 5,
   "id": "ce8a185c",
   "metadata": {},
   "outputs": [],
   "source": [
    "with zipfile.ZipFile(\"smaller.zip\") as myzip:    \n",
    "    no1 = myzip.open(\"smaller.csv\")\n",
    "\n",
    "#Now, we can read in the data\n",
    "df = pd.read_csv(eval('no1'), index_col=0)"
   ]
  },
  {
   "cell_type": "code",
   "execution_count": 6,
   "id": "52b8492d",
   "metadata": {},
   "outputs": [],
   "source": [
    "def col_to_list(column):\n",
    "  \"\"\"\n",
    "  String to list of strings for an entire column\n",
    "  Can be applied to \"drugs\", \"diseases\" and \"icdcodes\"\n",
    "  \"\"\"\n",
    "\n",
    "  def remove_artefacts(entry):\n",
    "\n",
    "    return \"\".join([c for c in entry if c not in [\"[\", \"]\", \"'\", \"\\\"\"]])\n",
    "  \n",
    "  column = [remove_artefacts(e) for e in column]\n",
    "  column = [e.split(\", \") for e in column]\n",
    "\n",
    "  return column\n",
    "\n",
    "\n",
    "def remove_abbreviations(l):\n",
    "\n",
    "  return [it.split(sep=\" (\")[0] for it in l]"
   ]
  },
  {
   "cell_type": "code",
   "execution_count": 7,
   "id": "a85a5d68",
   "metadata": {},
   "outputs": [],
   "source": [
    "# reformat train, validation and test data, does not work in a for loop\n",
    "df[\"drugs\"] = col_to_list(df[\"drugs\"])\n",
    "df[\"diseases\"] = col_to_list(df[\"diseases\"])\n",
    "df[\"diseases\"] = [remove_abbreviations(l) for l in df[\"diseases\"]]\n",
    "df[\"icdcodes\"] = col_to_list(df[\"icdcodes\"])"
   ]
  },
  {
   "cell_type": "code",
   "execution_count": 8,
   "id": "9098ee99",
   "metadata": {},
   "outputs": [],
   "source": [
    "def get_desc(x): \n",
    "  code = icd10.find(x)\n",
    "  #print(code)\n",
    "  desc = ''\n",
    "  if (code == None):\n",
    "    desc= 'Other' \n",
    "  else: \n",
    "    desc =  code.description\n",
    "  return desc\n",
    "\n",
    "\n",
    "\n",
    "def get_chapter(x): \n",
    "  code = icd10.find(x)\n",
    "  #print(code)\n",
    "  desc = 'Other'\n",
    "\n",
    "  try: \n",
    "    desc =  code.chapter\n",
    "  except Exception: \n",
    "    pass \n",
    "  return desc\n",
    "\n",
    "\n",
    "\n",
    "def get_block(x): \n",
    "  code = icd10.find(x)\n",
    "  desc = 'Other'\n",
    "  try: \n",
    "    desc =  code.block\n",
    "  except Exception: \n",
    "    pass \n",
    "\n",
    "  return desc\n",
    "\n",
    "\n",
    "def get_block_desc(x): \n",
    "  code = icd10.find(x)\n",
    "  #print(code)\n",
    "  desc = 'Other'\n",
    "  try: \n",
    "    desc =  code.block_description\n",
    "  except Exception: \n",
    "    pass \n",
    "  return desc"
   ]
  },
  {
   "cell_type": "code",
   "execution_count": 9,
   "id": "87cc11c7",
   "metadata": {},
   "outputs": [],
   "source": [
    "df['icdcodes_first'] = df['icdcodes'].apply(lambda x: x[0])"
   ]
  },
  {
   "cell_type": "code",
   "execution_count": 10,
   "id": "4f324c70",
   "metadata": {},
   "outputs": [],
   "source": [
    "df['description'] = df['icdcodes_first'].apply(get_desc)\n",
    "df['chapter'] = df['icdcodes_first'].apply(get_chapter)\n",
    "df['block'] = df['icdcodes_first'].apply(get_block)\n",
    "df['block_desc'] = df['icdcodes_first'].apply(get_block_desc)\n",
    "\n",
    "df = df[['nct_id', 'status', 'phase', 'diseases', 'icdcodes', 'drugs',\n",
    "       'smiless', 'study_date', 'country', 'participant_count', 'outcome',\n",
    "       'icdcodes_first', 'description', 'chapter', 'block', 'block_desc']]"
   ]
  },
  {
   "cell_type": "code",
   "execution_count": 14,
   "id": "aa12446c",
   "metadata": {},
   "outputs": [],
   "source": [
    "# hand curation\n",
    "df.loc[df['icdcodes_first'] == 'B00.0', 'chapter'] = 'I'\n",
    "df.loc[df['icdcodes_first'] == 'B00.81', 'chapter'] = 'I'\n",
    "df.loc[df['icdcodes_first'] == 'F32.A', 'chapter'] = 'V'\n",
    "df.loc[df['icdcodes_first'] == 'M45.A2', 'chapter'] = 'XIII'\n",
    "df.loc[df['icdcodes_first'] == 'M45.A1', 'chapter'] = 'XIII'\n",
    "df.loc[df['icdcodes_first'] == 'M31.11', 'chapter'] = 'XIII'\n",
    "df.loc[df['icdcodes_first'] == 'J82.83', 'chapter'] = 'X'\n",
    "\n",
    "df.loc[df['chapter'].isna(), 'chapter'] = 'II'\n",
    "df.loc[df['icdcodes_first'] == 'C7A', 'chapter'] = 'II'\n",
    "df.loc[df['icdcodes_first'] == 'J00', 'chapter'] = 'X'\n",
    "df.loc[df['icdcodes_first'] == 'K94', 'chapter'] = 'XI'\n",
    "df.loc[df['icdcodes_first'] == 'O00', 'chapter'] = 'XV'\n",
    "df.loc[df['icdcodes_first'] == 'O9A', 'chapter'] = 'XV'"
   ]
  },
  {
   "cell_type": "code",
   "execution_count": null,
   "id": "ce7f5f7a",
   "metadata": {},
   "outputs": [],
   "source": [
    "# Change n_participants to participant_count\n",
    "\n",
    "df = df.rename(columns={\"n_participants\": \"participant_count\"})\n"
   ]
  },
  {
   "cell_type": "code",
   "execution_count": null,
   "id": "9054604f",
   "metadata": {},
   "outputs": [],
   "source": [
    "df3 = df3.drop_duplicates('nct_id', keep='first')"
   ]
  },
  {
   "cell_type": "code",
   "execution_count": null,
   "id": "ea958d23",
   "metadata": {},
   "outputs": [],
   "source": [
    "# Page 3 dataviz\n",
    "\n",
    "def mol2fparr(mol):\n",
    "    arr = np.zeros((0,))\n",
    "    #print(mol)\n",
    "    fp = AllChem.GetMorganFingerprintAsBitVect(mol,2)\n",
    "    DataStructs.ConvertToNumpyArray(fp, arr)\n",
    "    #except Exception: \n",
    "    #   pass\n",
    "    return arr"
   ]
  },
  {
   "cell_type": "code",
   "execution_count": null,
   "id": "b4f628d7",
   "metadata": {},
   "outputs": [],
   "source": [
    "pca = PCA(n_components=2)"
   ]
  },
  {
   "cell_type": "code",
   "execution_count": null,
   "id": "aa8c4f36",
   "metadata": {},
   "outputs": [],
   "source": [
    "PandasTools.AddMoleculeColumnToFrame(df_new2,'smiless_first','molecule',includeFingerprints=True)\n",
    "df_new2 = df_new2.replace(to_replace='None', value=np.nan).dropna()\n",
    "\n",
    "\n",
    "\n",
    "X = np.asarray([mol2fparr(mol) for mol in df_new2.molecule])\n",
    "\n",
    "\n",
    "res = pca.fit_transform(X)\n",
    "print(res.shape)\n",
    "\n",
    "df_desc = df[['nct_id','block_desc']]\n",
    "\n",
    "df_desc = df_desc.drop_duplicates(keep='first')\n",
    "\n",
    "\n",
    "df_desc = df_desc.fillna('others')\n",
    "\n",
    "df_new2['PCA1'] = res[:,0]\n",
    "df_new2['PCA2'] = res[:,1]\n",
    "\n",
    "\n",
    "df_final = df_new2.merge(df_desc, how='left', left_on='nct_id', right_on='nct_id')\n",
    "\n",
    "\n",
    "df_final.columns\n",
    "\n",
    "df_final2 = df_final[['nct_id','smiless_first','block_desc','PCA1','PCA2']] \n",
    "\n",
    "\n",
    "alt.Chart(df_final2[0:5000]).mark_point().encode(\n",
    "           x = 'PCA1',\n",
    "           y = 'PCA2',\n",
    "           color = 'block_desc',\n",
    "           tooltip = ['nct_id', 'smiless_first']).interactive()"
   ]
  },
  {
   "cell_type": "code",
   "execution_count": null,
   "id": "8f41e528",
   "metadata": {},
   "outputs": [],
   "source": []
  },
  {
   "cell_type": "code",
   "execution_count": null,
   "id": "69f57306",
   "metadata": {},
   "outputs": [],
   "source": []
  }
 ],
 "metadata": {
  "kernelspec": {
   "display_name": "Python 3",
   "language": "python",
   "name": "python3"
  },
  "language_info": {
   "codemirror_mode": {
    "name": "ipython",
    "version": 3
   },
   "file_extension": ".py",
   "mimetype": "text/x-python",
   "name": "python",
   "nbconvert_exporter": "python",
   "pygments_lexer": "ipython3",
   "version": "3.8.8"
  }
 },
 "nbformat": 4,
 "nbformat_minor": 5
}
