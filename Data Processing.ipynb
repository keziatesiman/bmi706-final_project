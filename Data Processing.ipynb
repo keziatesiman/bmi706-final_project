{
 "cells": [
  {
   "cell_type": "code",
   "execution_count": 1,
   "id": "f51cb83b",
   "metadata": {},
   "outputs": [],
   "source": [
    "import os\n",
    "import zipfile\n",
    "import pandas as pd\n",
    "import numpy as np\n",
    "import altair as alt\n",
    "import streamlit as st\n",
    "from vega_datasets import data\n",
    "import icd10"
   ]
  },
  {
   "cell_type": "code",
   "execution_count": 5,
   "id": "e41c2044",
   "metadata": {},
   "outputs": [],
   "source": [
    "with zipfile.ZipFile(\"smaller.zip\") as myzip:    \n",
    "    no1 = myzip.open(\"smaller.csv\")\n",
    "\n",
    "#Now, we can read in the data\n",
    "df = pd.read_csv(eval('no1'), index_col=0)"
   ]
  },
  {
   "cell_type": "code",
   "execution_count": 6,
   "id": "5fc469d3",
   "metadata": {},
   "outputs": [],
   "source": [
    "def col_to_list(column):\n",
    "  \"\"\"\n",
    "  String to list of strings for an entire column\n",
    "  Can be applied to \"drugs\", \"diseases\" and \"icdcodes\"\n",
    "  \"\"\"\n",
    "\n",
    "  def remove_artefacts(entry):\n",
    "\n",
    "    return \"\".join([c for c in entry if c not in [\"[\", \"]\", \"'\", \"\\\"\"]])\n",
    "  \n",
    "  column = [remove_artefacts(e) for e in column]\n",
    "  column = [e.split(\", \") for e in column]\n",
    "\n",
    "  return column\n",
    "\n",
    "\n",
    "def remove_abbreviations(l):\n",
    "\n",
    "  return [it.split(sep=\" (\")[0] for it in l]"
   ]
  },
  {
   "cell_type": "code",
   "execution_count": 7,
   "id": "a7b4ab94",
   "metadata": {},
   "outputs": [],
   "source": [
    "# reformat train, validation and test data, does not work in a for loop\n",
    "df[\"drugs\"] = col_to_list(df[\"drugs\"])\n",
    "df[\"diseases\"] = col_to_list(df[\"diseases\"])\n",
    "df[\"diseases\"] = [remove_abbreviations(l) for l in df[\"diseases\"]]\n",
    "df[\"icdcodes\"] = col_to_list(df[\"icdcodes\"])"
   ]
  },
  {
   "cell_type": "code",
   "execution_count": null,
   "id": "58e2e7d2",
   "metadata": {},
   "outputs": [],
   "source": []
  }
 ],
 "metadata": {
  "kernelspec": {
   "display_name": "Python 3",
   "language": "python",
   "name": "python3"
  },
  "language_info": {
   "codemirror_mode": {
    "name": "ipython",
    "version": 3
   },
   "file_extension": ".py",
   "mimetype": "text/x-python",
   "name": "python",
   "nbconvert_exporter": "python",
   "pygments_lexer": "ipython3",
   "version": "3.8.8"
  }
 },
 "nbformat": 4,
 "nbformat_minor": 5
}
